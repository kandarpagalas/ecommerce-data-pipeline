{
 "cells": [
  {
   "cell_type": "code",
   "execution_count": null,
   "id": "ab8d0faf-ac0c-4b4b-8b76-8b52427b268a",
   "metadata": {
    "tags": []
   },
   "outputs": [],
   "source": [
    "# !pip install -r -q /home/jovyan/requirements.txt"
   ]
  },
  {
   "cell_type": "code",
   "execution_count": 5,
   "id": "9b0222ad-7424-4975-8f34-cbe2dddc62da",
   "metadata": {
    "tags": []
   },
   "outputs": [],
   "source": [
    "import os\n",
    "import sys\n",
    "# import pendulum\n",
    "from pyspark.sql import SparkSession\n",
    "# from faker import Faker\n",
    "\n",
    "sys.path.insert(1, \"/home/jovyan/work\")\n",
    "\n",
    "# from src.helpers.gen_order import OrderGen\n",
    "\n",
    "from pyspark.sql.types import (\n",
    "    StructType,\n",
    "    StructField,\n",
    "    StringType,\n",
    "    FloatType,\n",
    "    IntegerType,\n",
    "    ArrayType,\n",
    "    TimestampType\n",
    ")"
   ]
  },
  {
   "cell_type": "code",
   "execution_count": 6,
   "id": "6df02fc6-0801-4c38-91a3-041e57b24124",
   "metadata": {
    "tags": []
   },
   "outputs": [],
   "source": [
    "from pyspark.sql.functions import explode, col\n"
   ]
  },
  {
   "cell_type": "code",
   "execution_count": null,
   "id": "24d66459-d634-4b51-8295-cde594be854b",
   "metadata": {},
   "outputs": [],
   "source": [
    "# Inicia um gerador de vendas\n",
    "order_generator = OrderGen()\n",
    "customers_file = \"/home/jovyan/data/datasets/customers.json\"\n",
    "products_file = \"/home/jovyan/data/datasets/products.json\"\n",
    "data = order_generator.generate(customers_file=customers_file, products_file=products_file )"
   ]
  },
  {
   "cell_type": "code",
   "execution_count": null,
   "id": "05b463f8-5e14-4b14-aeaa-abe645befba7",
   "metadata": {
    "tags": []
   },
   "outputs": [],
   "source": [
    "# Faker.seed(0)\n",
    "# fake = Faker(\"pt_BR\")\n",
    "start_date=pendulum.from_format(\"2024-08-01\", \"YYYY-MM-DD\", tz=\"America/Fortaleza\")\n",
    "def fake_date():\n",
    "    fake = Faker(\"pt_BR\")\n",
    "    return fake.date_between(\n",
    "                    start_date=\"-30d\",\n",
    "                    end_date=\"-1d\",\n",
    "    )\n",
    "\n",
    "\n",
    "\n",
    "json_dataset = [order_generator.generate(customers_file=customers_file, products_file=products_file ) for _ in range(20000)]\n",
    "print(len(json_dataset))"
   ]
  },
  {
   "cell_type": "code",
   "execution_count": null,
   "id": "77dd1ae5-40eb-4cab-9cb1-bc44c0799359",
   "metadata": {
    "tags": []
   },
   "outputs": [],
   "source": [
    "# Step 1: Initialize SparkSession\n",
    "spark = SparkSession.builder \\\n",
    "    .appName(\"Create DataFrame from List of Dictionaries\") \\\n",
    "    .getOrCreate()"
   ]
  },
  {
   "cell_type": "code",
   "execution_count": null,
   "id": "6c6b7154-8510-4e78-976f-6d9537fef8b0",
   "metadata": {
    "tags": []
   },
   "outputs": [],
   "source": [
    "with open\n",
    "json_dataset"
   ]
  },
  {
   "cell_type": "markdown",
   "id": "7c35bbf9-fb91-4e99-9f33-01905410c175",
   "metadata": {
    "tags": []
   },
   "source": [
    "## Schema"
   ]
  },
  {
   "cell_type": "code",
   "execution_count": null,
   "id": "3e42db84-c618-4bb3-82a5-ab23d63fd4a5",
   "metadata": {
    "tags": []
   },
   "outputs": [],
   "source": [
    "customer_schema = StructType(\n",
    "    [\n",
    "        StructField(\"id\", StringType(), nullable=False),\n",
    "        StructField(\"created_at\", StringType(), nullable=False),\n",
    "        StructField(\"name\", StringType(), nullable=False),\n",
    "        StructField(\"email\", StringType(), nullable=False),\n",
    "        StructField(\"tax_id\", StringType(), nullable=False),\n",
    "    ]\n",
    ")"
   ]
  },
  {
   "cell_type": "code",
   "execution_count": null,
   "id": "ec6b0624-d674-4692-87c6-061cd60ad1d9",
   "metadata": {
    "tags": []
   },
   "outputs": [],
   "source": [
    "item_schema = StructType([\n",
    "      StructField(\"reference_id\",StringType(),nullable=False),\n",
    "      StructField(\"name\",StringType(),nullable=False),\n",
    "      StructField(\"categoria\",StringType(),nullable=False),\n",
    "      StructField(\"unit_price\",FloatType(),nullable=False),\n",
    "      StructField(\"quantity\",IntegerType(),nullable=False),\n",
    "  ])"
   ]
  },
  {
   "cell_type": "code",
   "execution_count": null,
   "id": "d23a2047-7e86-4f20-947b-d196338e334c",
   "metadata": {
    "tags": []
   },
   "outputs": [],
   "source": [
    "payment_method = StructType(\n",
    "    [\n",
    "        StructField(\n",
    "            \"type\", StringType(), nullable=True\n",
    "        ),\n",
    "        StructField(\n",
    "            \"pix\",\n",
    "            StructType(\n",
    "                [\n",
    "                    StructField(\n",
    "                        \"notification_id\",\n",
    "                        StringType(),\n",
    "                        nullable=False,\n",
    "                    ),\n",
    "                    StructField(\n",
    "                        \"end_to_end_id\",\n",
    "                        StringType(),\n",
    "                        nullable=False,\n",
    "                    ),\n",
    "                    StructField(\n",
    "                        \"holder\",\n",
    "                        StructType(\n",
    "                            [\n",
    "                                StructField(\n",
    "                                    \"name\",\n",
    "                                    StringType(),\n",
    "                                    nullable=False,\n",
    "                                ),\n",
    "                                StructField(\n",
    "                                    \"tax_id\",\n",
    "                                    StringType(),\n",
    "                                    nullable=False,\n",
    "                                ),\n",
    "                            ]\n",
    "                        ),\n",
    "                        nullable=False,\n",
    "                    ),\n",
    "                ]\n",
    "            ),\n",
    "            nullable=True,\n",
    "        ),\n",
    "    ]\n",
    ")\n",
    "charges_schema = ArrayType(\n",
    "                    StructType(\n",
    "                        [\n",
    "                            StructField(\"id\", StringType(), nullable=False),\n",
    "                            StructField(\"reference_id\", StringType(), nullable=False),\n",
    "                            StructField(\"status\", StringType(), nullable=False),\n",
    "                            StructField(\"created_at\", StringType(), nullable=False),\n",
    "                            StructField(\"paid_at\", StringType(), nullable=True),\n",
    "                            StructField(\"description\", StringType(), nullable=True),\n",
    "                            StructField(\n",
    "                                \"amount\",\n",
    "                                StructType(\n",
    "                                    [\n",
    "                                        StructField(\n",
    "                                            \"value\", StringType(), nullable=False\n",
    "                                        ),\n",
    "                                        StructField(\n",
    "                                            \"currency\", StringType(), nullable=False\n",
    "                                        ),\n",
    "                                        StructField(\n",
    "                                            \"summary\",\n",
    "                                            StructType(\n",
    "                                                [\n",
    "                                                    StructField(\n",
    "                                                        \"total\",\n",
    "                                                        StringType(),\n",
    "                                                        nullable=False,\n",
    "                                                    ),\n",
    "                                                    StructField(\n",
    "                                                        \"paid\",\n",
    "                                                        StringType(),\n",
    "                                                        nullable=False,\n",
    "                                                    ),\n",
    "                                                    StructField(\n",
    "                                                        \"refunded\",\n",
    "                                                        StringType(),\n",
    "                                                        nullable=False,\n",
    "                                                    ),\n",
    "                                                ]\n",
    "                                            ),\n",
    "                                            nullable=False,\n",
    "                                        ),\n",
    "                                    ]\n",
    "                                ),\n",
    "                                nullable=False,\n",
    "                            ),\n",
    "                            StructField(\n",
    "                                \"payment_method\", payment_method, nullable=False,\n",
    "                            ),\n",
    "                        ]\n",
    "                    )\n",
    "                )"
   ]
  },
  {
   "cell_type": "code",
   "execution_count": null,
   "id": "66ef772a-c3a1-4dcb-9a13-277488d4ee7d",
   "metadata": {
    "tags": []
   },
   "outputs": [],
   "source": [
    "# Shipping\n",
    "shipping_schema = StructType(\n",
    "                    [\n",
    "                        StructField(\"street\", StringType(), nullable=False),\n",
    "                        StructField(\"number\", StringType(), nullable=False),\n",
    "                        StructField(\"complement\", StringType(), nullable=True),\n",
    "                        StructField(\"locality\", StringType(), nullable=True),\n",
    "                        StructField(\"city\", StringType(), nullable=True),\n",
    "                        StructField(\"region_code\", StringType(), nullable=True),\n",
    "                        StructField(\"country\", StringType(), nullable=True),\n",
    "                        StructField(\"postal_code\", StringType(), nullable=False),\n",
    "                    ]\n",
    "                )"
   ]
  },
  {
   "cell_type": "code",
   "execution_count": null,
   "id": "ccf4e393-1620-4d2e-8d25-50a3cadabb0a",
   "metadata": {
    "tags": []
   },
   "outputs": [],
   "source": [
    "# Todo o JSON\n",
    "schema = StructType([\n",
    "    StructField(\"id\", StringType(), nullable=False),\n",
    "    StructField(\"reference_id\", StringType(), nullable=False),\n",
    "    StructField(\"created_at\", StringType(), nullable=False),\n",
    "    StructField(\"shipping\", shipping_schema, nullable=False),\n",
    "    StructField(\"items\", ArrayType(item_schema), nullable=False),\n",
    "    StructField(\"customer\", customer_schema, nullable=False),\n",
    "    StructField(\"charges\", charges_schema, nullable=False)\n",
    "])"
   ]
  },
  {
   "cell_type": "markdown",
   "id": "f296c895-8c81-42d1-9a6b-a25291fcf896",
   "metadata": {
    "tags": []
   },
   "source": [
    "## Read RAW Data"
   ]
  },
  {
   "cell_type": "code",
   "execution_count": null,
   "id": "b8b21c0a-da23-4523-a7b8-a041e3c74bc7",
   "metadata": {},
   "outputs": [],
   "source": [
    "# Step 3: Create DataFrame from the list of dictionaries\n",
    "df0 = spark.createDataFrame(json_dataset, schema=schema)"
   ]
  },
  {
   "cell_type": "code",
   "execution_count": null,
   "id": "b76ef783-582a-4e2d-9ebf-87dc37fd54c1",
   "metadata": {},
   "outputs": [],
   "source": [
    "df = df0.withColumn(\"charge\", explode(\"charges\")).withColumn(\"item\", explode(\"items\")).drop(*[\"charges\", \"items\"])"
   ]
  },
  {
   "cell_type": "code",
   "execution_count": null,
   "id": "d6fb935b-99bc-4c47-8584-4658b5aabed8",
   "metadata": {
    "tags": []
   },
   "outputs": [],
   "source": [
    "df.printSchema()"
   ]
  },
  {
   "cell_type": "code",
   "execution_count": null,
   "id": "5668fc3b-4651-4bee-bcb4-d963d64150e8",
   "metadata": {
    "tags": []
   },
   "outputs": [],
   "source": [
    "%%time\n",
    "df.write.parquet('/home/jovyan/data/volumes/jupyter/original.parquet')"
   ]
  },
  {
   "cell_type": "code",
   "execution_count": null,
   "id": "6a7f407c-ab40-43a5-a708-cc5e1d382f29",
   "metadata": {
    "tags": []
   },
   "outputs": [],
   "source": [
    "%%time\n",
    "# df = spark.read.parquet('/home/jovyan/data/volumes/jupyter/original.parquet')"
   ]
  },
  {
   "cell_type": "code",
   "execution_count": null,
   "id": "dfaa2ec6-ae38-411f-92a6-da11b80e98e9",
   "metadata": {
    "tags": []
   },
   "outputs": [],
   "source": [
    "# df.show(truncate=False)\n",
    "pandas_df = df.toPandas()\n",
    "pandas_df.sample(5)"
   ]
  },
  {
   "cell_type": "markdown",
   "id": "49cf7922-70ba-42eb-b98d-412b62fc6d2a",
   "metadata": {},
   "source": [
    "## Tables"
   ]
  },
  {
   "cell_type": "markdown",
   "id": "cf5e690a-1c4f-4d49-90d6-7507bbc8622d",
   "metadata": {},
   "source": [
    "### OrderItems"
   ]
  },
  {
   "cell_type": "code",
   "execution_count": null,
   "id": "b27b431c-a7b2-40da-8ce5-f85028ca8957",
   "metadata": {
    "tags": []
   },
   "outputs": [],
   "source": [
    "order_items_df = df.select(\n",
    "    col(\"id\").alias(\"order_id\"),\n",
    "    col(\"item.reference_id\").alias(\"product_reference\"),\n",
    "    col(\"item.unit_price\").cast('decimal(10,2)').alias('unit_price'),\n",
    "    col(\"item.quantity\").cast('integer').alias('quantity')\n",
    ").dropDuplicates()\n",
    "\n",
    "order_items_df.show(truncate=False)\n",
    "order_items_df.printSchema()"
   ]
  },
  {
   "cell_type": "markdown",
   "id": "325b6b1c-a7bf-436d-9c06-d8bc41c85c8d",
   "metadata": {},
   "source": [
    "## Venda"
   ]
  },
  {
   "cell_type": "code",
   "execution_count": null,
   "id": "b0556ab7-9ab8-4f73-8c64-f166bec8778f",
   "metadata": {
    "tags": []
   },
   "outputs": [],
   "source": [
    "vendas_df = df \\\n",
    "    .withColumn(\"created_at\", col(\"created_at\").cast(TimestampType())) \\\n",
    "    .withColumn(\"customer_id\", col(\"customer.id\")) \\\n",
    "    .withColumn(\"paid_at\", col(\"charge.paid_at\").cast(TimestampType())) \\\n",
    "    .withColumn(\"status\", col(\"charge.status\")) \\\n",
    "    .withColumn(\"payment_method\", col(\"charge.payment_method.type\")) \\\n",
    "    .withColumn(\"payment_total\", col(\"charge.amount.summary.total\").cast(\"decimal(10,2)\")) \\\n",
    "    .drop(*[\"charge\", \"customer\", \"item\"]) \\\n",
    "    .dropDuplicates() \\\n",
    "    .select(\"*\", \"shipping.*\").drop(\"shipping\") \\\n",
    "    .withColumn(\"number\", col(\"number\").cast(IntegerType()))\n",
    "\n",
    "vendas_df.printSchema()\n",
    "vendas_df.select(\"id\", \"customer_id\", \"paid_at\", \"payment_method\", \"payment_total\", \"region_code\").show(truncate=True)\n"
   ]
  },
  {
   "cell_type": "code",
   "execution_count": null,
   "id": "153cbbf4-60ef-47b0-9747-8a5af2d2e206",
   "metadata": {
    "tags": []
   },
   "outputs": [],
   "source": [
    "from pyspark.sql.functions import col, explode, window, window, sum as _sum\n",
    "# Define a sliding window of 1 hour\n",
    "windowed_stream = (\n",
    "    vendas_df.withWatermark(\"timestamp\", \"1 day\")\n",
    "    .groupBy(window(col(\"paid_at\"), \"30 days\").alias(\"window\"))\n",
    "    .agg(_sum(\"payment_total\").alias(\"total_revenue\"))\n",
    ").withColumn(\"window\", col(\"window\").cast(StringType()))\n",
    "windowed_stream.show(truncate=False)"
   ]
  },
  {
   "cell_type": "code",
   "execution_count": null,
   "id": "af52587c-0a3a-42d2-a38b-b310c5cc8d1e",
   "metadata": {
    "tags": []
   },
   "outputs": [],
   "source": [
    "type(windowed_stream)"
   ]
  },
  {
   "cell_type": "code",
   "execution_count": null,
   "id": "0298adaa-a743-47f1-9c58-126c7b252f84",
   "metadata": {},
   "outputs": [],
   "source": []
  }
 ],
 "metadata": {
  "kernelspec": {
   "display_name": "Python 3 (ipykernel)",
   "language": "python",
   "name": "python3"
  },
  "language_info": {
   "codemirror_mode": {
    "name": "ipython",
    "version": 3
   },
   "file_extension": ".py",
   "mimetype": "text/x-python",
   "name": "python",
   "nbconvert_exporter": "python",
   "pygments_lexer": "ipython3",
   "version": "3.10.10"
  }
 },
 "nbformat": 4,
 "nbformat_minor": 5
}
