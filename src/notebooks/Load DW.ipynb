{
 "cells": [
  {
   "cell_type": "code",
   "execution_count": 55,
   "id": "95f8cc05-0a14-46a2-aaae-50ba1e962d5f",
   "metadata": {
    "tags": []
   },
   "outputs": [],
   "source": [
    "import os\n",
    "from datetime import datetime, timedelta\n",
    "from pyspark.sql import SparkSession, functions as f\n",
    "import matplotlib.pyplot as plt\n",
    "from pyspark.sql.functions import explode, col, date_format\n",
    "from pyspark.sql.types import *"
   ]
  },
  {
   "cell_type": "code",
   "execution_count": 2,
   "id": "30054b5d-c764-4394-93d4-b5c1e0d6d378",
   "metadata": {
    "tags": []
   },
   "outputs": [],
   "source": [
    "# Define a raiz do projeto\n",
    "os.chdir('/home/jovyan/')"
   ]
  },
  {
   "cell_type": "markdown",
   "id": "d3f64c2d-6321-48e5-a57e-c6b0bebc030b",
   "metadata": {
    "tags": []
   },
   "source": [
    "## Session"
   ]
  },
  {
   "cell_type": "code",
   "execution_count": 14,
   "id": "b7560b57-2f13-47a0-aeb9-557984c9266a",
   "metadata": {
    "tags": []
   },
   "outputs": [],
   "source": [
    "# Minio\n",
    "MINIO_ENDPOINT = os.getenv(\"MINIO_ENDPOINT_\", \"minioserver:9000\")\n",
    "MINIO_ACCESS_KEY = os.getenv(\"MINIO_ACCESS_KEY_\", \"embuuWvqBMTLPRnbYXxu\")\n",
    "MINIO_SECRET_KEY = os.getenv(\"MINIO_SECRET_KEY_\", \"ZApLkWzj71pCNrB0IBGvQ5s5a2x4AJ42XSFZxb39\")\n",
    "\n",
    "# Postgres\n",
    "POSTGRES_DB = os.getenv(\"POSTGRES_DB\", \"z106\")\n",
    "POSTGRES_USER = os.getenv(\"POSTGRES_USER\", \"postgres\")\n",
    "POSTGRES_PASSWORD = os.getenv(\"POSTGRES_PASSWORD\", \"z106pass\")\n",
    "POSTGRES_HOST = os.getenv(\"POSTGRES_HOST\", \"localhost:35432\")\n",
    "\n",
    "# Remote\n",
    "MINIO_BUCKET = os.getenv(\"MINIO_BUCKET\", \"z106\")"
   ]
  },
  {
   "cell_type": "code",
   "execution_count": 5,
   "id": "1cab1f9a-3d5e-41c4-8989-a65da7e1e95d",
   "metadata": {
    "tags": []
   },
   "outputs": [
    {
     "name": "stdout",
     "output_type": "stream",
     "text": [
      "CPU times: user 202 ms, sys: 63.1 ms, total: 265 ms\n",
      "Wall time: 16.1 s\n"
     ]
    }
   ],
   "source": [
    "%%time\n",
    "\n",
    "spark = (\n",
    "    SparkSession.builder.appName(\"DW_z106\")\n",
    "    .config(\"spark.jars.packages\", \"org.postgresql:postgresql:42.7.4\")\n",
    "    .config(\"spark.hadoop.fs.s3a.endpoint\", MINIO_ENDPOINT)\n",
    "    .config(\"spark.hadoop.fs.s3a.access.key\", MINIO_ACCESS_KEY)\n",
    "    .config(\"spark.hadoop.fs.s3a.secret.key\", MINIO_SECRET_KEY)\n",
    "    .config(\"spark.hadoop.fs.s3a.connection.ssl.enabled\", \"false\")\n",
    "    .config(\"spark.hadoop.fs.s3a.path.style.access\", \"true\")\n",
    "    .getOrCreate()\n",
    ")"
   ]
  },
  {
   "cell_type": "markdown",
   "id": "527e8e4e-eda9-4150-a924-c7f38a02433a",
   "metadata": {
    "tags": []
   },
   "source": [
    "## Carga de dados Dimensões"
   ]
  },
  {
   "cell_type": "code",
   "execution_count": 6,
   "id": "4bf82497-f8ba-4caf-a7a4-9249d508155c",
   "metadata": {
    "tags": []
   },
   "outputs": [],
   "source": [
    "def query_postgres(spark, query):\n",
    "    df = (\n",
    "        spark.read.format(\"jdbc\")\n",
    "        .option(\"driver\", \"org.postgresql.Driver\")\n",
    "        .option(\"url\", f\"jdbc:postgresql://{POSTGRES_HOST}/{POSTGRES_DB}\")\n",
    "        .option(\"user\", POSTGRES_USER)\n",
    "        .option(\"password\", POSTGRES_PASSWORD)\n",
    "        .option(\"query\", query)\n",
    "        .load()\n",
    "    )\n",
    "    return df"
   ]
  },
  {
   "cell_type": "markdown",
   "id": "2abe57db-7e6a-454a-9ba7-0b08c100b2ac",
   "metadata": {
    "tags": []
   },
   "source": [
    "### Clientes"
   ]
  },
  {
   "cell_type": "code",
   "execution_count": 7,
   "id": "7a7abc16-fcb9-49b0-b54a-41bfc367962b",
   "metadata": {
    "tags": []
   },
   "outputs": [
    {
     "name": "stdout",
     "output_type": "stream",
     "text": [
      "CPU times: user 12.6 ms, sys: 3.55 ms, total: 16.1 ms\n",
      "Wall time: 1.67 s\n"
     ]
    }
   ],
   "source": [
    "%%time\n",
    "query = \"SELECT * FROM customers\"\n",
    "df_customers = query_postgres(spark, query)\n",
    "\n",
    "# Criando a dimensão de clientes\n",
    "df_customers.createOrReplaceTempView(\"dm_customers\")"
   ]
  },
  {
   "cell_type": "markdown",
   "id": "33c87658-f6ed-4c83-b621-a1fbc3f76520",
   "metadata": {
    "tags": []
   },
   "source": [
    "### Produtos"
   ]
  },
  {
   "cell_type": "code",
   "execution_count": 10,
   "id": "c7558d6c-6957-410c-a442-17ceb55f03ed",
   "metadata": {
    "tags": []
   },
   "outputs": [
    {
     "name": "stdout",
     "output_type": "stream",
     "text": [
      "CPU times: user 5.04 ms, sys: 2.61 ms, total: 7.65 ms\n",
      "Wall time: 78.3 ms\n"
     ]
    }
   ],
   "source": [
    "%%time\n",
    "query = \"SELECT * FROM products\"\n",
    "df_products = query_postgres(spark, query)\n",
    "\n",
    "# Criando a dimensão de produtos\n",
    "df_products.createOrReplaceTempView(\"dm_products\")"
   ]
  },
  {
   "cell_type": "markdown",
   "id": "36e068ab-8730-4378-b1f0-23000d66b802",
   "metadata": {
    "tags": []
   },
   "source": [
    "### Data"
   ]
  },
  {
   "cell_type": "code",
   "execution_count": 16,
   "id": "98c6d8b7-6177-4fa3-97ba-f1da0fe6a4be",
   "metadata": {
    "tags": []
   },
   "outputs": [],
   "source": [
    "def generate_date_df(spark, start_date, end_date):\n",
    "    date_list = [start_date + timedelta(days=x) for x in range(0, (end_date - start_date).days + 1)]\n",
    "    return spark.createDataFrame(date_list, DateType()).toDF(\"date\")"
   ]
  },
  {
   "cell_type": "code",
   "execution_count": 22,
   "id": "84e75b8f-e796-43a9-8bae-a2dec3ba66bc",
   "metadata": {
    "tags": []
   },
   "outputs": [],
   "source": [
    "# Data de início e fim\n",
    "start_date = datetime(2023, 1, 1)\n",
    "end_date = datetime(2023, 12, 31)\n",
    "\n",
    "# Gerando o DataFrame de datas\n",
    "df_dates = generate_date_df(spark, start_date, end_date)"
   ]
  },
  {
   "cell_type": "code",
   "execution_count": 25,
   "id": "94ff92b7-1ab0-4fbf-bd4a-6cdcc277d470",
   "metadata": {
    "tags": []
   },
   "outputs": [],
   "source": [
    "# Adicionando colunas de tempo\n",
    "df_time = df_dates.withColumn(\"year\", f.year(\"date\")) \\\n",
    "                  .withColumn(\"month\", f.month(\"date\")) \\\n",
    "                  .withColumn(\"day\", f.dayofmonth(\"date\")) \\\n",
    "                  .withColumn(\"weekday\", f.date_format(\"date\", \"E\")) \\\n",
    "                  .withColumn(\"week_of_year\", f.weekofyear(\"date\"))\n",
    "\n",
    "# Criando a dimensão de tempo\n",
    "df_time.createOrReplaceTempView(\"dm_time\")"
   ]
  },
  {
   "cell_type": "markdown",
   "id": "ac87111c-0a3f-4944-8b68-c55b164bee28",
   "metadata": {
    "tags": []
   },
   "source": [
    "## Carga de dados Fato"
   ]
  },
  {
   "cell_type": "code",
   "execution_count": 66,
   "id": "fbbb58fb-9105-43cd-aaa0-c20ada41e4ad",
   "metadata": {
    "tags": []
   },
   "outputs": [
    {
     "name": "stdout",
     "output_type": "stream",
     "text": [
      "CPU times: user 14.7 ms, sys: 5.51 ms, total: 20.2 ms\n",
      "Wall time: 136 ms\n"
     ]
    }
   ],
   "source": [
    "%%time\n",
    "query = \"SELECT * FROM ft_orders\"\n",
    "ft_orders_df = query_postgres(spark, query)\n",
    "\n",
    "# Criando a dimensão de produtos\n",
    "ft_orders_df.createOrReplaceTempView(\"ft_orders\")"
   ]
  },
  {
   "cell_type": "markdown",
   "id": "53cebe6e-1b98-4d55-a0b1-ba0fbe41260e",
   "metadata": {
    "tags": []
   },
   "source": [
    "## Salvando Dimensões como Parquet"
   ]
  },
  {
   "cell_type": "code",
   "execution_count": 68,
   "id": "1e41998f-acc9-4afb-8c58-43d8a3c93693",
   "metadata": {
    "tags": []
   },
   "outputs": [],
   "source": [
    "# Salvar o DataFrame em formato Parquet no MinIO\n",
    "df_customers.write.mode(\"overwrite\").parquet(f\"s3a://{MINIO_BUCKET}/dw/dm_customers\")\n",
    "df_products.write.mode(\"overwrite\").parquet(f\"s3a://{MINIO_BUCKET}/dw/dm_products\")\n",
    "df_time.write.mode(\"overwrite\").parquet(f\"s3a://{MINIO_BUCKET}/dw/dm_time\")\n",
    "ft_orders_df.write.mode(\"overwrite\").parquet(f\"s3a://{MINIO_BUCKET}/dw/ft_orders\")"
   ]
  },
  {
   "cell_type": "markdown",
   "id": "b8ca5657-2a12-401a-b406-1b207f2c63e7",
   "metadata": {},
   "source": [
    "## ToPandas timestamp fix"
   ]
  },
  {
   "cell_type": "code",
   "execution_count": 56,
   "id": "cc5768f5-6ca2-4755-baed-aa6630c0ad20",
   "metadata": {
    "tags": []
   },
   "outputs": [],
   "source": [
    "pdf = df_orders.limit(10) \\\n",
    "    .withColumn(\"created_at\", date_format(\"created_at\", \"yyyy-MM-dd HH:mm:ss\")) \\\n",
    "    .withColumn(\"charges_created_at\", date_format(\"charges_created_at\", \"yyyy-MM-dd HH:mm:ss\")) \\\n",
    "    .withColumn(\"charges_paid_at\", date_format(\"charges_paid_at\", \"yyyy-MM-dd HH:mm:ss\")) \\\n",
    "    .toPandas()"
   ]
  },
  {
   "cell_type": "code",
   "execution_count": 34,
   "id": "1479afdd-7ac8-45c9-b0ed-684f00ab6143",
   "metadata": {
    "tags": []
   },
   "outputs": [],
   "source": [
    "# Lendo os arquivos Parquet\n",
    "ft_orders_df = spark.read.parquet(f\"s3a://{MINIO_BUCKET}/dw/ft_orders\")\n",
    "customers_df = spark.read.parquet(f\"s3a://{MINIO_BUCKET}/dw/dm_customers\")\n",
    "products_df = spark.read.parquet(f\"s3a://{MINIO_BUCKET}/dw/dm_products\")\n",
    "time_df = spark.read.parquet(f\"s3a://{MINIO_BUCKET}/dw/dm_time\")"
   ]
  },
  {
   "cell_type": "markdown",
   "id": "0b139f04-324b-4c62-8610-4259a6f602ac",
   "metadata": {
    "tags": []
   },
   "source": [
    "#### Receita Total por Cliente (Top 10)"
   ]
  },
  {
   "cell_type": "code",
   "execution_count": 39,
   "id": "ba654774-4732-44fd-b672-14ec81604550",
   "metadata": {
    "tags": []
   },
   "outputs": [
    {
     "data": {
      "text/html": [
       "<div>\n",
       "<style scoped>\n",
       "    .dataframe tbody tr th:only-of-type {\n",
       "        vertical-align: middle;\n",
       "    }\n",
       "\n",
       "    .dataframe tbody tr th {\n",
       "        vertical-align: top;\n",
       "    }\n",
       "\n",
       "    .dataframe thead th {\n",
       "        text-align: right;\n",
       "    }\n",
       "</style>\n",
       "<table border=\"1\" class=\"dataframe\">\n",
       "  <thead>\n",
       "    <tr style=\"text-align: right;\">\n",
       "      <th></th>\n",
       "      <th>customer</th>\n",
       "      <th>total_revenue</th>\n",
       "    </tr>\n",
       "  </thead>\n",
       "  <tbody>\n",
       "    <tr>\n",
       "      <th>0</th>\n",
       "      <td>CID_7b92ed6e-a295-4660-81ec-f791c43dab55</td>\n",
       "      <td>484853.7</td>\n",
       "    </tr>\n",
       "    <tr>\n",
       "      <th>1</th>\n",
       "      <td>CID_15c89328-d811-44bd-b3bf-2f7d7d762f82</td>\n",
       "      <td>483965.6</td>\n",
       "    </tr>\n",
       "    <tr>\n",
       "      <th>2</th>\n",
       "      <td>CID_a0968e80-f110-4303-8722-f676008fc0a9</td>\n",
       "      <td>483142.2</td>\n",
       "    </tr>\n",
       "    <tr>\n",
       "      <th>3</th>\n",
       "      <td>CID_4e6ba3cd-8569-4f42-b970-4a10ace38b04</td>\n",
       "      <td>480727.2</td>\n",
       "    </tr>\n",
       "    <tr>\n",
       "      <th>4</th>\n",
       "      <td>CID_44b92be4-f642-4f43-b8e3-7c1e3f386dd2</td>\n",
       "      <td>480242.0</td>\n",
       "    </tr>\n",
       "    <tr>\n",
       "      <th>5</th>\n",
       "      <td>CID_09d30c02-c4d6-440d-9cf0-d1c9b547875c</td>\n",
       "      <td>478803.3</td>\n",
       "    </tr>\n",
       "    <tr>\n",
       "      <th>6</th>\n",
       "      <td>CID_2b264738-bfaa-4851-9aee-3e867ccef4eb</td>\n",
       "      <td>478699.6</td>\n",
       "    </tr>\n",
       "    <tr>\n",
       "      <th>7</th>\n",
       "      <td>CID_1b07183a-7d49-4106-a230-acd5dd51cfaa</td>\n",
       "      <td>475409.4</td>\n",
       "    </tr>\n",
       "    <tr>\n",
       "      <th>8</th>\n",
       "      <td>CID_54f55b0e-2880-4a68-b08f-fb61da49e190</td>\n",
       "      <td>474288.5</td>\n",
       "    </tr>\n",
       "    <tr>\n",
       "      <th>9</th>\n",
       "      <td>CID_44c24903-e8c8-4e35-92d6-2756f3f30c76</td>\n",
       "      <td>474155.2</td>\n",
       "    </tr>\n",
       "  </tbody>\n",
       "</table>\n",
       "</div>"
      ],
      "text/plain": [
       "                                   customer  total_revenue\n",
       "0  CID_7b92ed6e-a295-4660-81ec-f791c43dab55       484853.7\n",
       "1  CID_15c89328-d811-44bd-b3bf-2f7d7d762f82       483965.6\n",
       "2  CID_a0968e80-f110-4303-8722-f676008fc0a9       483142.2\n",
       "3  CID_4e6ba3cd-8569-4f42-b970-4a10ace38b04       480727.2\n",
       "4  CID_44b92be4-f642-4f43-b8e3-7c1e3f386dd2       480242.0\n",
       "5  CID_09d30c02-c4d6-440d-9cf0-d1c9b547875c       478803.3\n",
       "6  CID_2b264738-bfaa-4851-9aee-3e867ccef4eb       478699.6\n",
       "7  CID_1b07183a-7d49-4106-a230-acd5dd51cfaa       475409.4\n",
       "8  CID_54f55b0e-2880-4a68-b08f-fb61da49e190       474288.5\n",
       "9  CID_44c24903-e8c8-4e35-92d6-2756f3f30c76       474155.2"
      ]
     },
     "execution_count": 39,
     "metadata": {},
     "output_type": "execute_result"
    }
   ],
   "source": [
    "receita_por_cliente_df = ft_orders_df \\\n",
    "    .groupBy('customer') \\\n",
    "    .agg(f.sum('charge_value').alias('total_revenue')) \\\n",
    "    .orderBy('total_revenue', ascending=False) \\\n",
    "    .limit(10)\n",
    "\n",
    "receita_por_cliente = receita_por_cliente_df.toPandas()\n",
    "clientes = receita_por_cliente['customer'].fillna('Desconhecido')  # Substituir valores None\n",
    "receitas = receita_por_cliente['total_revenue']\n",
    "receita_por_cliente"
   ]
  },
  {
   "cell_type": "markdown",
   "id": "73fa07e2-6c22-4ad0-9f2a-1665116a33f2",
   "metadata": {
    "tags": []
   },
   "source": [
    "#### Número de Pedidos por Categoria de Produto"
   ]
  },
  {
   "cell_type": "code",
   "execution_count": 41,
   "id": "f47af6ab-74dd-4812-88ef-3fddc717989a",
   "metadata": {
    "tags": []
   },
   "outputs": [],
   "source": [
    "items_df = ft_orders_df.withColumn('item', explode(col('item_references')))\n",
    "items_df = items_df.select('item', 'charge_value')\n",
    "pedidos_por_produto_df = items_df.join(products_df, items_df.item == products_df.reference_id, 'left') \\\n",
    "    .groupBy('category') \\\n",
    "    .agg(f.count('item').alias('order_count'))\n",
    "\n",
    "categorias_df = pedidos_por_produto_df.toPandas()\n",
    "categorias = categorias_df['category'].fillna('Desconhecida')  # Substituir valores None\n",
    "quantidade_pedidos = categorias_df['order_count']\n"
   ]
  },
  {
   "cell_type": "code",
   "execution_count": 36,
   "id": "5ee2550c-a9f1-4cf1-ab1b-006b1e8ed48c",
   "metadata": {
    "tags": []
   },
   "outputs": [],
   "source": [
    "# Receita Total por Mês\n",
    "receita_mensal_df = ft_orders_df \\\n",
    "    .join(time_df, ft_orders_df.created_at.cast('date') == time_df.date, 'left') \\\n",
    "    .groupBy('year', 'month') \\\n",
    "    .agg(f.sum('charge_value').alias('total_revenue')) \\\n",
    "    .orderBy('year', 'month')\n",
    "\n",
    "receita_mensal = receita_mensal_df.toPandas()\n",
    "\n",
    "# Garantir que os valores de year e month são inteiros\n",
    "receita_mensal['month'] = receita_mensal['month'].fillna(0).astype(int)\n",
    "receita_mensal['year'] = receita_mensal['year'].fillna(0).astype(int)\n",
    "\n",
    "# Criar o período no formato 'YYYY-MM'\n",
    "receita_mensal['period'] = receita_mensal.apply(lambda x: f\"{int(x['year']):04d}-{int(x['month']):02d}\", axis=1)\n",
    "meses = receita_mensal['period']\n",
    "receitas_por_mes = receita_mensal['total_revenue']"
   ]
  },
  {
   "cell_type": "code",
   "execution_count": 42,
   "id": "4113d38a-557b-49e6-855a-920846b96265",
   "metadata": {
    "tags": []
   },
   "outputs": [
    {
     "ename": "NameError",
     "evalue": "name 'categorias' is not defined",
     "output_type": "error",
     "traceback": [
      "\u001b[0;31m---------------------------------------------------------------------------\u001b[0m",
      "\u001b[0;31mNameError\u001b[0m                                 Traceback (most recent call last)",
      "Cell \u001b[0;32mIn[42], line 25\u001b[0m\n\u001b[1;32m     22\u001b[0m axs[\u001b[38;5;241m0\u001b[39m, \u001b[38;5;241m0\u001b[39m]\u001b[38;5;241m.\u001b[39mtick_params(axis\u001b[38;5;241m=\u001b[39m\u001b[38;5;124m'\u001b[39m\u001b[38;5;124mx\u001b[39m\u001b[38;5;124m'\u001b[39m, rotation\u001b[38;5;241m=\u001b[39m\u001b[38;5;241m45\u001b[39m)\n\u001b[1;32m     24\u001b[0m \u001b[38;5;66;03m# Número de Pedidos por Categoria de Produto\u001b[39;00m\n\u001b[0;32m---> 25\u001b[0m axs[\u001b[38;5;241m0\u001b[39m, \u001b[38;5;241m1\u001b[39m]\u001b[38;5;241m.\u001b[39mbar(\u001b[43mcategorias\u001b[49m, quantidade_pedidos, color\u001b[38;5;241m=\u001b[39m\u001b[38;5;124m'\u001b[39m\u001b[38;5;124mlightgreen\u001b[39m\u001b[38;5;124m'\u001b[39m)\n\u001b[1;32m     26\u001b[0m axs[\u001b[38;5;241m0\u001b[39m, \u001b[38;5;241m1\u001b[39m]\u001b[38;5;241m.\u001b[39mset_title(\u001b[38;5;124m'\u001b[39m\u001b[38;5;124mNúmero de Pedidos por Categoria de Produto\u001b[39m\u001b[38;5;124m'\u001b[39m)\n\u001b[1;32m     27\u001b[0m axs[\u001b[38;5;241m0\u001b[39m, \u001b[38;5;241m1\u001b[39m]\u001b[38;5;241m.\u001b[39mset_xlabel(\u001b[38;5;124m'\u001b[39m\u001b[38;5;124mCategoria do Produto\u001b[39m\u001b[38;5;124m'\u001b[39m)\n",
      "\u001b[0;31mNameError\u001b[0m: name 'categorias' is not defined"
     ]
    },
    {
     "data": {
      "image/png": "[encoded data removed]",
      "text/plain": [
       "<Figure size 1600x1200 with 4 Axes>"
      ]
     },
     "metadata": {},
     "output_type": "display_data"
    }
   ],
   "source": [
    "# Número de Pedidos por Estado de Entrega\n",
    "shipping_df = ft_orders_df.withColumn(\n",
    "    'shipping_region_code',\n",
    "    f.get_json_object(f.col('shipping'), '$.region_code')\n",
    ")\n",
    "quantidade_pedidos_por_estado_df = shipping_df \\\n",
    "    .groupBy('shipping_region_code') \\\n",
    "    .agg(f.count('id').alias('order_count'))\n",
    "\n",
    "estados_df = quantidade_pedidos_por_estado_df.toPandas()\n",
    "estados = estados_df['shipping_region_code'].fillna('Desconhecido')  # Substituir valores None\n",
    "quantidade_pedidos_por_estado = estados_df['order_count']\n",
    "\n",
    "# Criar subplots\n",
    "fig, axs = plt.subplots(2, 2, figsize=(16, 12))\n",
    "\n",
    "# Receita Total por Cliente (Top 10)\n",
    "axs[0, 0].bar(clientes, receitas, color='skyblue')\n",
    "axs[0, 0].set_title('Receita Total por Cliente (Top 10)')\n",
    "axs[0, 0].set_xlabel('Cliente')\n",
    "axs[0, 0].set_ylabel('Receita Total (BRL)')\n",
    "axs[0, 0].tick_params(axis='x', rotation=45)\n",
    "\n",
    "# Número de Pedidos por Categoria de Produto\n",
    "axs[0, 1].bar(categorias, quantidade_pedidos, color='lightgreen')\n",
    "axs[0, 1].set_title('Número de Pedidos por Categoria de Produto')\n",
    "axs[0, 1].set_xlabel('Categoria do Produto')\n",
    "axs[0, 1].set_ylabel('Número de Pedidos')\n",
    "axs[0, 1].tick_params(axis='x', rotation=45)\n",
    "\n",
    "# Receita Total por Mês\n",
    "axs[1, 0].plot(meses, receitas_por_mes, marker='o', linestyle='-', color='coral')\n",
    "axs[1, 0].set_title('Receita Total por Mês')\n",
    "axs[1, 0].set_xlabel('Mês')\n",
    "axs[1, 0].set_ylabel('Receita Total (BRL)')\n",
    "axs[1, 0].tick_params(axis='x', rotation=45)\n",
    "\n",
    "# Número de Pedidos por Estado de Entrega\n",
    "axs[1, 1].bar(estados, quantidade_pedidos_por_estado, color='lightcoral')\n",
    "axs[1, 1].set_title('Número de Pedidos por Estado de Entrega')\n",
    "axs[1, 1].set_xlabel('Estado de Entrega')\n",
    "axs[1, 1].set_ylabel('Número de Pedidos')\n",
    "axs[1, 1].tick_params(axis='x', rotation=45)\n",
    "\n",
    "# Ajustar layout e mostrar\n",
    "plt.tight_layout()\n",
    "plt.show()"
   ]
  },
  {
   "cell_type": "code",
   "execution_count": null,
   "id": "b74dd999-2411-4bb4-bb40-14f3aa41dd1c",
   "metadata": {},
   "outputs": [],
   "source": []
  }
 ],
 "metadata": {
  "kernelspec": {
   "display_name": "Python 3 (ipykernel)",
   "language": "python",
   "name": "python3"
  },
  "language_info": {
   "codemirror_mode": {
    "name": "ipython",
    "version": 3
   },
   "file_extension": ".py",
   "mimetype": "text/x-python",
   "name": "python",
   "nbconvert_exporter": "python",
   "pygments_lexer": "ipython3",
   "version": "3.10.10"
  }
 },
 "nbformat": 4,
 "nbformat_minor": 5
}
